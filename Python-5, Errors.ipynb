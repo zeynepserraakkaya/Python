{
 "cells": [
  {
   "cell_type": "markdown",
   "metadata": {},
   "source": [
    "# ERRORS"
   ]
  },
  {
   "cell_type": "code",
   "execution_count": 1,
   "metadata": {},
   "outputs": [],
   "source": [
    "def add(n1,n2):\n",
    "    return n1+n2"
   ]
  },
  {
   "cell_type": "code",
   "execution_count": 2,
   "metadata": {},
   "outputs": [],
   "source": [
    "add(4,8)"
   ]
  },
  {
   "cell_type": "code",
   "execution_count": 3,
   "metadata": {},
   "outputs": [],
   "source": [
    "number1=4"
   ]
  },
  {
   "cell_type": "code",
   "execution_count": 4,
   "metadata": {},
   "outputs": [
    {
     "name": "stdout",
     "output_type": "stream",
     "text": [
      "Enter a number: 8\n"
     ]
    }
   ],
   "source": [
    "number2=input(\"Enter a number: \")"
   ]
  },
  {
   "cell_type": "code",
   "execution_count": 5,
   "metadata": {},
   "outputs": [],
   "source": [
    "# add(number1,number2)\n",
    "# TypeError: unsupported operand type(s) for +: 'int' and 'str'"
   ]
  },
  {
   "cell_type": "markdown",
   "metadata": {},
   "source": [
    "# try"
   ]
  },
  {
   "cell_type": "markdown",
   "metadata": {},
   "source": [
    "# except"
   ]
  },
  {
   "cell_type": "code",
   "execution_count": 6,
   "metadata": {},
   "outputs": [],
   "source": [
    "try:\n",
    "    result=10+10\n",
    "except:\n",
    "    print(\"Sorry.\")"
   ]
  },
  {
   "cell_type": "code",
   "execution_count": 7,
   "metadata": {},
   "outputs": [
    {
     "data": {
      "text/plain": [
       "20"
      ]
     },
     "execution_count": 7,
     "metadata": {},
     "output_type": "execute_result"
    }
   ],
   "source": [
    "result"
   ]
  },
  {
   "cell_type": "code",
   "execution_count": 8,
   "metadata": {},
   "outputs": [
    {
     "name": "stdout",
     "output_type": "stream",
     "text": [
      "Sorry.\n"
     ]
    }
   ],
   "source": [
    "try:\n",
    "    result=10+\"10\"\n",
    "except:\n",
    "    print(\"Sorry.\")"
   ]
  },
  {
   "cell_type": "code",
   "execution_count": 9,
   "metadata": {},
   "outputs": [
    {
     "name": "stdout",
     "output_type": "stream",
     "text": [
      "Added.\n",
      "20\n"
     ]
    }
   ],
   "source": [
    "try:\n",
    "    result=10+10\n",
    "except:\n",
    "    print(\"Sorry.\")\n",
    "else:\n",
    "    print(\"Added.\")\n",
    "    print(result)"
   ]
  },
  {
   "cell_type": "code",
   "execution_count": 10,
   "metadata": {},
   "outputs": [
    {
     "name": "stdout",
     "output_type": "stream",
     "text": [
      "I always run.\n"
     ]
    }
   ],
   "source": [
    "try:\n",
    "    f=open(\"testfile\",\"w\")\n",
    "    f.write(\"A test line.\")\n",
    "except TypeError:\n",
    "    print(\"There was a type error.\")\n",
    "finally:\n",
    "    print(\"I always run.\")"
   ]
  },
  {
   "cell_type": "code",
   "execution_count": 11,
   "metadata": {},
   "outputs": [
    {
     "name": "stdout",
     "output_type": "stream",
     "text": [
      "There was an OS error.\n",
      "I always run.\n"
     ]
    }
   ],
   "source": [
    "try:\n",
    "    f=open(\"testfile\",\"r\")\n",
    "    f.write(\"A test line.\")\n",
    "except TypeError:\n",
    "    print(\"There was a type error.\")\n",
    "except OSError: # UnsupportedOperation: not writable\n",
    "    print(\"There was an OS error.\")\n",
    "finally:\n",
    "    print(\"I always run.\")"
   ]
  },
  {
   "cell_type": "code",
   "execution_count": 12,
   "metadata": {},
   "outputs": [
    {
     "name": "stdout",
     "output_type": "stream",
     "text": [
      "All other errors.\n",
      "I always run.\n"
     ]
    }
   ],
   "source": [
    "try:\n",
    "    f=open(\"testfile\",\"r\")\n",
    "    f.write(\"A test line.\")\n",
    "except TypeError:\n",
    "    print(\"There was a type error.\")\n",
    "except:\n",
    "    print(\"All other errors.\")\n",
    "finally:\n",
    "    print(\"I always run.\")"
   ]
  },
  {
   "cell_type": "code",
   "execution_count": 13,
   "metadata": {},
   "outputs": [],
   "source": [
    "def integer():\n",
    "    try:\n",
    "        result=int(input(\"A number: \"))\n",
    "    except:\n",
    "        print(\"Error.\")\n",
    "    finally:\n",
    "        print(\"End of try, except, finally.\")"
   ]
  },
  {
   "cell_type": "code",
   "execution_count": 14,
   "metadata": {},
   "outputs": [
    {
     "name": "stdout",
     "output_type": "stream",
     "text": [
      "A number: a\n",
      "Error.\n",
      "End of try, except, finally.\n"
     ]
    }
   ],
   "source": [
    "integer()"
   ]
  },
  {
   "cell_type": "code",
   "execution_count": 15,
   "metadata": {},
   "outputs": [
    {
     "name": "stdout",
     "output_type": "stream",
     "text": [
      "A number: 1\n",
      "End of try, except, finally.\n"
     ]
    }
   ],
   "source": [
    "integer()"
   ]
  },
  {
   "cell_type": "code",
   "execution_count": 16,
   "metadata": {},
   "outputs": [],
   "source": [
    "def integer():\n",
    "    while True:\n",
    "        try:\n",
    "            result=int(input(\"A number: \"))\n",
    "        except:\n",
    "            print(\"Error.\")\n",
    "            continue\n",
    "        else:\n",
    "            print(\"Thank you.\")\n",
    "            break\n",
    "        finally:\n",
    "            print(\"End of try, except, finally.\")\n",
    "            print(\"I will always run at the end.\")"
   ]
  },
  {
   "cell_type": "code",
   "execution_count": 17,
   "metadata": {},
   "outputs": [
    {
     "name": "stdout",
     "output_type": "stream",
     "text": [
      "A number: a\n",
      "Error.\n",
      "End of try, except, finally.\n",
      "I will always run at the end.\n",
      "A number: 1\n",
      "Thank you.\n",
      "End of try, except, finally.\n",
      "I will always run at the end.\n"
     ]
    }
   ],
   "source": [
    "integer()"
   ]
  },
  {
   "cell_type": "code",
   "execution_count": 18,
   "metadata": {},
   "outputs": [],
   "source": [
    "def integer():\n",
    "    while True:\n",
    "        try:\n",
    "            result=int(input(\"A number: \"))\n",
    "        except:\n",
    "            print(\"Error.\")\n",
    "            continue\n",
    "        else:\n",
    "            print(\"Thank you.\")\n",
    "            break"
   ]
  },
  {
   "cell_type": "code",
   "execution_count": 19,
   "metadata": {},
   "outputs": [
    {
     "name": "stdout",
     "output_type": "stream",
     "text": [
      "A number: a\n",
      "Error.\n",
      "A number: 1\n",
      "Thank you.\n"
     ]
    }
   ],
   "source": [
    "integer()"
   ]
  }
 ],
 "metadata": {
  "kernelspec": {
   "display_name": "Python 3",
   "language": "python",
   "name": "python3"
  },
  "language_info": {
   "codemirror_mode": {
    "name": "ipython",
    "version": 3
   },
   "file_extension": ".py",
   "mimetype": "text/x-python",
   "name": "python",
   "nbconvert_exporter": "python",
   "pygments_lexer": "ipython3",
   "version": "3.8.5"
  }
 },
 "nbformat": 4,
 "nbformat_minor": 4
}
