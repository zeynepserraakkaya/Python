{
 "cells": [
  {
   "cell_type": "code",
   "execution_count": 1,
   "metadata": {},
   "outputs": [],
   "source": [
    "# pwd\n",
    "# print working directory"
   ]
  },
  {
   "cell_type": "code",
   "execution_count": 2,
   "metadata": {},
   "outputs": [],
   "source": [
    "f=open(\"test.txt\",\"w+\")\n",
    "f.write(\"This is a test file.\")\n",
    "f.close()"
   ]
  },
  {
   "cell_type": "markdown",
   "metadata": {},
   "source": [
    "# OS"
   ]
  },
  {
   "cell_type": "code",
   "execution_count": 3,
   "metadata": {},
   "outputs": [],
   "source": [
    "import os"
   ]
  },
  {
   "cell_type": "markdown",
   "metadata": {},
   "source": [
    "os.getcwd()"
   ]
  },
  {
   "cell_type": "code",
   "execution_count": 4,
   "metadata": {},
   "outputs": [],
   "source": [
    "os.getcwd"
   ]
  },
  {
   "cell_type": "code",
   "execution_count": 5,
   "metadata": {},
   "outputs": [],
   "source": [
    "os.getcwd()"
   ]
  },
  {
   "cell_type": "code",
   "execution_count": 6,
   "metadata": {},
   "outputs": [],
   "source": [
    "# cwd\n",
    "# current working directory"
   ]
  },
  {
   "cell_type": "markdown",
   "metadata": {},
   "source": [
    "os.listdir()"
   ]
  },
  {
   "cell_type": "code",
   "execution_count": 7,
   "metadata": {},
   "outputs": [],
   "source": [
    "os.listdir"
   ]
  },
  {
   "cell_type": "code",
   "execution_count": 8,
   "metadata": {},
   "outputs": [],
   "source": [
    "os.listdir()"
   ]
  },
  {
   "cell_type": "code",
   "execution_count": 9,
   "metadata": {},
   "outputs": [],
   "source": [
    "# dir"
   ]
  },
  {
   "cell_type": "code",
   "execution_count": 10,
   "metadata": {},
   "outputs": [
    {
     "data": {
      "text/plain": [
       "['.ipynb_checkpoints',\n",
       " 'Collections, Module.ipynb',\n",
       " 'OS, SHUTIL, Modules.ipynb',\n",
       " 'test.txt']"
      ]
     },
     "execution_count": 10,
     "metadata": {},
     "output_type": "execute_result"
    }
   ],
   "source": [
    "os.listdir(\"C:\\\\Users\\\\zsa\\\\Documents\\\\Python\\\\Modules\")"
   ]
  },
  {
   "cell_type": "code",
   "execution_count": 11,
   "metadata": {},
   "outputs": [
    {
     "data": {
      "text/plain": [
       "['.ipynb_checkpoints',\n",
       " 'cap.py',\n",
       " 'Example_Top_Level',\n",
       " 'Modules',\n",
       " 'Modules-Packages',\n",
       " 'Python-1, Files',\n",
       " 'Python-1.ipynb',\n",
       " 'Python-2.ipynb',\n",
       " 'Python-3.ipynb',\n",
       " 'Python-4 Object Oriented Programming.ipynb',\n",
       " 'Python-5, Errors.ipynb',\n",
       " 'Python-6,DECORATORS AND GENERATORS.ipynb',\n",
       " 'simple1.py',\n",
       " 'testfile',\n",
       " 'test_cap.py',\n",
       " '__pycache__']"
      ]
     },
     "execution_count": 11,
     "metadata": {},
     "output_type": "execute_result"
    }
   ],
   "source": [
    "os.listdir(\"C:\\\\Users\\\\zsa\\\\Documents\\\\Python\")"
   ]
  },
  {
   "cell_type": "markdown",
   "metadata": {},
   "source": [
    "# SHUTIL"
   ]
  },
  {
   "cell_type": "code",
   "execution_count": 12,
   "metadata": {},
   "outputs": [],
   "source": [
    "import shutil"
   ]
  },
  {
   "cell_type": "markdown",
   "metadata": {},
   "source": [
    "shutil.move()"
   ]
  },
  {
   "cell_type": "code",
   "execution_count": 13,
   "metadata": {},
   "outputs": [],
   "source": [
    "# shutil.move(source,destination)"
   ]
  },
  {
   "cell_type": "code",
   "execution_count": 14,
   "metadata": {},
   "outputs": [
    {
     "data": {
      "text/plain": [
       "'C:\\\\Users\\\\zsa\\\\Documents\\\\Python\\\\test.txt'"
      ]
     },
     "execution_count": 14,
     "metadata": {},
     "output_type": "execute_result"
    }
   ],
   "source": [
    "shutil.move(\"test.txt\",\"C:\\\\Users\\\\zsa\\\\Documents\\\\Python\")"
   ]
  },
  {
   "cell_type": "code",
   "execution_count": 15,
   "metadata": {},
   "outputs": [
    {
     "data": {
      "text/plain": [
       "['.ipynb_checkpoints',\n",
       " 'Collections, Module.ipynb',\n",
       " 'OS, SHUTIL, Modules.ipynb']"
      ]
     },
     "execution_count": 15,
     "metadata": {},
     "output_type": "execute_result"
    }
   ],
   "source": [
    "os.listdir(\"C:\\\\Users\\\\zsa\\\\Documents\\\\Python\\\\Modules\")"
   ]
  },
  {
   "cell_type": "code",
   "execution_count": 16,
   "metadata": {},
   "outputs": [
    {
     "data": {
      "text/plain": [
       "['.ipynb_checkpoints',\n",
       " 'cap.py',\n",
       " 'Example_Top_Level',\n",
       " 'Modules',\n",
       " 'Modules-Packages',\n",
       " 'Python-1, Files',\n",
       " 'Python-1.ipynb',\n",
       " 'Python-2.ipynb',\n",
       " 'Python-3.ipynb',\n",
       " 'Python-4 Object Oriented Programming.ipynb',\n",
       " 'Python-5, Errors.ipynb',\n",
       " 'Python-6,DECORATORS AND GENERATORS.ipynb',\n",
       " 'simple1.py',\n",
       " 'test.txt',\n",
       " 'testfile',\n",
       " 'test_cap.py',\n",
       " '__pycache__']"
      ]
     },
     "execution_count": 16,
     "metadata": {},
     "output_type": "execute_result"
    }
   ],
   "source": [
    "os.listdir(\"C:\\\\Users\\\\zsa\\\\Documents\\\\Python\") # 'test.txt'"
   ]
  },
  {
   "cell_type": "code",
   "execution_count": 17,
   "metadata": {},
   "outputs": [
    {
     "data": {
      "text/plain": [
       "'C:\\\\Users\\\\zsa\\\\Documents\\\\Python\\\\Modules'"
      ]
     },
     "execution_count": 17,
     "metadata": {},
     "output_type": "execute_result"
    }
   ],
   "source": [
    "pwd"
   ]
  },
  {
   "cell_type": "markdown",
   "metadata": {},
   "source": [
    "Deleting Files"
   ]
  },
  {
   "cell_type": "markdown",
   "metadata": {},
   "source": [
    "os.unlink(path) #file"
   ]
  },
  {
   "cell_type": "markdown",
   "metadata": {},
   "source": [
    "os.rmdir(path) # folder # folder must be empty"
   ]
  },
  {
   "cell_type": "markdown",
   "metadata": {},
   "source": [
    "shutil.rmtree(path) # deletes all files/folders, in the path\n",
    "*dangerous*"
   ]
  },
  {
   "cell_type": "markdown",
   "metadata": {},
   "source": [
    "_All of these methods can not be reversed._"
   ]
  },
  {
   "cell_type": "markdown",
   "metadata": {},
   "source": [
    "send2trash # safer"
   ]
  },
  {
   "cell_type": "code",
   "execution_count": 18,
   "metadata": {},
   "outputs": [],
   "source": [
    "import send2trash"
   ]
  },
  {
   "cell_type": "code",
   "execution_count": 19,
   "metadata": {},
   "outputs": [
    {
     "data": {
      "text/plain": [
       "<function nt.listdir(path=None)>"
      ]
     },
     "execution_count": 19,
     "metadata": {},
     "output_type": "execute_result"
    }
   ],
   "source": [
    "os.listdir"
   ]
  },
  {
   "cell_type": "code",
   "execution_count": 20,
   "metadata": {},
   "outputs": [
    {
     "data": {
      "text/plain": [
       "['.ipynb_checkpoints',\n",
       " 'Collections, Module.ipynb',\n",
       " 'OS, SHUTIL, Modules.ipynb']"
      ]
     },
     "execution_count": 20,
     "metadata": {},
     "output_type": "execute_result"
    }
   ],
   "source": [
    "os.listdir()"
   ]
  },
  {
   "cell_type": "code",
   "execution_count": 21,
   "metadata": {},
   "outputs": [
    {
     "data": {
      "text/plain": [
       "'C:\\\\Users\\\\zsa\\\\Documents\\\\Python\\\\Modules\\\\test.txt'"
      ]
     },
     "execution_count": 21,
     "metadata": {},
     "output_type": "execute_result"
    }
   ],
   "source": [
    "shutil.move(\"C:\\\\Users\\\\zsa\\\\Documents\\\\Python\\\\test.txt\",os.getcwd())"
   ]
  },
  {
   "cell_type": "code",
   "execution_count": 22,
   "metadata": {},
   "outputs": [
    {
     "data": {
      "text/plain": [
       "['.ipynb_checkpoints',\n",
       " 'Collections, Module.ipynb',\n",
       " 'OS, SHUTIL, Modules.ipynb',\n",
       " 'test.txt']"
      ]
     },
     "execution_count": 22,
     "metadata": {},
     "output_type": "execute_result"
    }
   ],
   "source": [
    "os.listdir()"
   ]
  },
  {
   "cell_type": "code",
   "execution_count": 23,
   "metadata": {},
   "outputs": [],
   "source": [
    "send2trash.send2trash(\"test.txt\")"
   ]
  },
  {
   "cell_type": "code",
   "execution_count": 24,
   "metadata": {},
   "outputs": [
    {
     "data": {
      "text/plain": [
       "['.ipynb_checkpoints',\n",
       " 'Collections, Module.ipynb',\n",
       " 'OS, SHUTIL, Modules.ipynb']"
      ]
     },
     "execution_count": 24,
     "metadata": {},
     "output_type": "execute_result"
    }
   ],
   "source": [
    "os.listdir()"
   ]
  },
  {
   "cell_type": "markdown",
   "metadata": {},
   "source": [
    "os.walk"
   ]
  },
  {
   "cell_type": "code",
   "execution_count": 25,
   "metadata": {},
   "outputs": [
    {
     "data": {
      "text/plain": [
       "'C:\\\\Users\\\\zsa\\\\Documents\\\\Python\\\\Modules'"
      ]
     },
     "execution_count": 25,
     "metadata": {},
     "output_type": "execute_result"
    }
   ],
   "source": [
    "os.getcwd()"
   ]
  },
  {
   "cell_type": "code",
   "execution_count": 26,
   "metadata": {},
   "outputs": [
    {
     "name": "stdout",
     "output_type": "stream",
     "text": [
      "Folder name: C:\\Users\\zsa\\Documents\\Python\\Example_Top_Level\n",
      "\n",
      "\n",
      "The subfolders:\n",
      "\tSubfolder: .ipynb_checkpoints\n",
      "\tSubfolder: Mid_Example_One\n",
      "\tSubfolder: Mid_Example_Two\n",
      "\n",
      "\n",
      "The files:\n",
      "\tFile: Mid_Example.txt\n",
      "\n",
      "\n",
      "Folder name: C:\\Users\\zsa\\Documents\\Python\\Example_Top_Level\\.ipynb_checkpoints\n",
      "\n",
      "\n",
      "The subfolders:\n",
      "\n",
      "\n",
      "The files:\n",
      "\n",
      "\n",
      "Folder name: C:\\Users\\zsa\\Documents\\Python\\Example_Top_Level\\Mid_Example_One\n",
      "\n",
      "\n",
      "The subfolders:\n",
      "\tSubfolder: .ipynb_checkpoints\n",
      "\tSubfolder: Bottom_Level_One\n",
      "\tSubfolder: Bottom_Level_Two\n",
      "\n",
      "\n",
      "The files:\n",
      "\tFile: Mid_Level_1.txt\n",
      "\n",
      "\n",
      "Folder name: C:\\Users\\zsa\\Documents\\Python\\Example_Top_Level\\Mid_Example_One\\.ipynb_checkpoints\n",
      "\n",
      "\n",
      "The subfolders:\n",
      "\n",
      "\n",
      "The files:\n",
      "\n",
      "\n",
      "Folder name: C:\\Users\\zsa\\Documents\\Python\\Example_Top_Level\\Mid_Example_One\\Bottom_Level_One\n",
      "\n",
      "\n",
      "The subfolders:\n",
      "\tSubfolder: .ipynb_checkpoints\n",
      "\n",
      "\n",
      "The files:\n",
      "\tFile: One_Text.txt\n",
      "\n",
      "\n",
      "Folder name: C:\\Users\\zsa\\Documents\\Python\\Example_Top_Level\\Mid_Example_One\\Bottom_Level_One\\.ipynb_checkpoints\n",
      "\n",
      "\n",
      "The subfolders:\n",
      "\n",
      "\n",
      "The files:\n",
      "\n",
      "\n",
      "Folder name: C:\\Users\\zsa\\Documents\\Python\\Example_Top_Level\\Mid_Example_One\\Bottom_Level_Two\n",
      "\n",
      "\n",
      "The subfolders:\n",
      "\tSubfolder: .ipynb_checkpoints\n",
      "\n",
      "\n",
      "The files:\n",
      "\tFile: Two_Text.txt\n",
      "\n",
      "\n",
      "Folder name: C:\\Users\\zsa\\Documents\\Python\\Example_Top_Level\\Mid_Example_One\\Bottom_Level_Two\\.ipynb_checkpoints\n",
      "\n",
      "\n",
      "The subfolders:\n",
      "\n",
      "\n",
      "The files:\n",
      "\n",
      "\n",
      "Folder name: C:\\Users\\zsa\\Documents\\Python\\Example_Top_Level\\Mid_Example_Two\n",
      "\n",
      "\n",
      "The subfolders:\n",
      "\n",
      "\n",
      "The files:\n",
      "\n",
      "\n"
     ]
    }
   ],
   "source": [
    "for folder,sub_folders,files in os.walk(\"C:\\\\Users\\\\zsa\\\\Documents\\\\Python\\\\Example_Top_Level\"):\n",
    "    print(f\"Folder name: {folder}\")\n",
    "    print(\"\\n\")\n",
    "    print(\"The subfolders:\")\n",
    "    for sub in sub_folders:\n",
    "        print(f\"\\tSubfolder: {sub}\")\n",
    "    print(\"\\n\")\n",
    "    print(\"The files:\")\n",
    "    for file in files:\n",
    "        print(f\"\\tFile: {file}\")\n",
    "    print(\"\\n\")"
   ]
  }
 ],
 "metadata": {
  "kernelspec": {
   "display_name": "Python 3",
   "language": "python",
   "name": "python3"
  },
  "language_info": {
   "codemirror_mode": {
    "name": "ipython",
    "version": 3
   },
   "file_extension": ".py",
   "mimetype": "text/x-python",
   "name": "python",
   "nbconvert_exporter": "python",
   "pygments_lexer": "ipython3",
   "version": "3.8.5"
  }
 },
 "nbformat": 4,
 "nbformat_minor": 4
}
